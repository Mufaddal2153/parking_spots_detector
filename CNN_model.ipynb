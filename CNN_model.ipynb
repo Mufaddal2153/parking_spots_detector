{
 "cells": [
  {
   "cell_type": "code",
   "execution_count": 2,
   "metadata": {},
   "outputs": [],
   "source": [
    "import numpy\n",
    "import os\n",
    "from tensorflow.keras.applications.vgg16 import VGG16\n",
    "from keras.preprocessing.image import ImageDataGenerator\n",
    "import tensorflow as tf\n",
    "from keras import optimizers\n",
    "from keras.models import Sequential, Model\n",
    "from keras.layers import Dropout, Flatten, Dense\n",
    "from keras import backend as k\n",
    "from keras.callbacks import ModelCheckpoint, LearningRateScheduler, TensorBoard, EarlyStopping"
   ]
  },
  {
   "cell_type": "markdown",
   "metadata": {},
   "source": [
    "### 1. Load Test and Train Files"
   ]
  },
  {
   "cell_type": "code",
   "execution_count": 3,
   "metadata": {},
   "outputs": [
    {
     "name": "stdout",
     "output_type": "stream",
     "text": [
      "405 188\n"
     ]
    }
   ],
   "source": [
    "files_train = 0\n",
    "files_validation = 0\n",
    "\n",
    "cwd = os.getcwd()\n",
    "folder = 'train_data/train'\n",
    "for sub_folder in os.listdir(folder):\n",
    "    path, dirs, files = next(os.walk(os.path.join(folder, sub_folder)))\n",
    "    files_train += len(files)\n",
    "\n",
    "\n",
    "folder = 'train_data/test'\n",
    "for sub_folder in os.listdir(folder):\n",
    "    path, dirs, files = next(os.walk(os.path.join(folder, sub_folder)))\n",
    "    files_validation += len(files)\n",
    "\n",
    "print(files_train,files_validation)"
   ]
  },
  {
   "cell_type": "markdown",
   "metadata": {},
   "source": [
    "### 2. Set key parameters"
   ]
  },
  {
   "cell_type": "code",
   "execution_count": 4,
   "metadata": {},
   "outputs": [],
   "source": [
    "img_width, img_height = 48, 48\n",
    "train_data_dir = \"train_data/train\"\n",
    "validation_data_dir = \"train_data/test\"\n",
    "nb_train_samples = files_train\n",
    "nb_validation_samples = files_validation\n",
    "batch_size = 32\n",
    "epochs = 15\n",
    "num_classes = 2"
   ]
  },
  {
   "cell_type": "markdown",
   "metadata": {},
   "source": [
    "### 3. Build model on top of a trained VGG"
   ]
  },
  {
   "cell_type": "code",
   "execution_count": 5,
   "metadata": {},
   "outputs": [
    {
     "name": "stdout",
     "output_type": "stream",
     "text": [
      "<keras.engine.input_layer.InputLayer object at 0x00000230A6695EB0>\n",
      "<keras.layers.convolutional.Conv2D object at 0x00000230A66C7B20>\n",
      "<keras.layers.convolutional.Conv2D object at 0x00000230A67165E0>\n",
      "<keras.layers.pooling.MaxPooling2D object at 0x00000230A67162E0>\n",
      "<keras.layers.convolutional.Conv2D object at 0x00000230A68B0AF0>\n",
      "<keras.layers.convolutional.Conv2D object at 0x00000230A68B0790>\n",
      "<keras.layers.pooling.MaxPooling2D object at 0x00000230A68B0E20>\n",
      "<keras.layers.convolutional.Conv2D object at 0x00000230A68BEEB0>\n",
      "<keras.layers.convolutional.Conv2D object at 0x00000230A68C3BE0>\n",
      "<keras.layers.convolutional.Conv2D object at 0x00000230A68BEB50>\n"
     ]
    }
   ],
   "source": [
    "model = VGG16(weights = \"imagenet\", include_top=False, input_shape = (img_width, img_height, 3))\n",
    "# Freeze the layers which you don't want to train. Here I am freezing the first 10 layers.\n",
    "for layer in model.layers[:10]:\n",
    "    print(layer)\n",
    "    layer.trainable = False"
   ]
  },
  {
   "cell_type": "code",
   "execution_count": 6,
   "metadata": {},
   "outputs": [
    {
     "name": "stderr",
     "output_type": "stream",
     "text": [
      "C:\\Users\\mufad\\anaconda3\\lib\\site-packages\\keras\\optimizer_v2\\optimizer_v2.py:355: UserWarning: The `lr` argument is deprecated, use `learning_rate` instead.\n",
      "  warnings.warn(\n"
     ]
    }
   ],
   "source": [
    "x = model.output\n",
    "x = Flatten()(x)\n",
    "\n",
    "predictions = Dense(num_classes, activation=\"softmax\")(x)\n",
    "\n",
    "# creating the final model\n",
    "model_final = Model(inputs = model.input, outputs = predictions)\n",
    "\n",
    "# compile the model\n",
    "model_final.compile(loss = \"categorical_crossentropy\", \n",
    "                    optimizer = tf.keras.optimizers.SGD(lr=0.0001, momentum=0.9), \n",
    "                    metrics=[\"accuracy\"]) # See learning rate is very low"
   ]
  },
  {
   "cell_type": "code",
   "execution_count": 7,
   "metadata": {},
   "outputs": [
    {
     "name": "stdout",
     "output_type": "stream",
     "text": [
      "Found 405 images belonging to 2 classes.\n",
      "Found 188 images belonging to 2 classes.\n"
     ]
    }
   ],
   "source": [
    "# Initiate the train and test generators with data Augumentation\n",
    "train_datagen = ImageDataGenerator(\n",
    "rescale = 1./255,\n",
    "horizontal_flip = True,\n",
    "fill_mode = \"nearest\",\n",
    "zoom_range = 0.1,\n",
    "width_shift_range = 0.1,\n",
    "height_shift_range=0.1,\n",
    "rotation_range=5)\n",
    "\n",
    "test_datagen = ImageDataGenerator(\n",
    "rescale = 1./255,\n",
    "horizontal_flip = True,\n",
    "fill_mode = \"nearest\",\n",
    "zoom_range = 0.1,\n",
    "width_shift_range = 0.1,\n",
    "height_shift_range=0.1,\n",
    "rotation_range=5)\n",
    "\n",
    "train_generator = train_datagen.flow_from_directory(\n",
    "train_data_dir,\n",
    "target_size = (img_height, img_width),\n",
    "batch_size = batch_size,\n",
    "class_mode = \"categorical\")\n",
    "\n",
    "validation_generator = test_datagen.flow_from_directory(\n",
    "validation_data_dir,\n",
    "target_size = (img_height, img_width),\n",
    "class_mode = \"categorical\")"
   ]
  },
  {
   "cell_type": "code",
   "execution_count": 8,
   "metadata": {},
   "outputs": [
    {
     "name": "stdout",
     "output_type": "stream",
     "text": [
      "WARNING:tensorflow:`period` argument is deprecated. Please use `save_freq` to specify the frequency in number of batches seen.\n"
     ]
    }
   ],
   "source": [
    "# Save the model according to the conditions\n",
    "checkpoint = ModelCheckpoint(\"parking_spots_model.h5\", monitor='accuracy', verbose=1, save_best_only=True, save_weights_only=False, mode='auto', period=1)\n",
    "early = EarlyStopping(monitor='accuracy', min_delta=0, patience=10, verbose=1, mode='auto', baseline=0.93)\n"
   ]
  },
  {
   "cell_type": "code",
   "execution_count": 9,
   "metadata": {},
   "outputs": [
    {
     "name": "stdout",
     "output_type": "stream",
     "text": [
      "Epoch 1/15\n",
      "13/13 [==============================] - 22s 2s/step - loss: 0.6093 - accuracy: 0.6346 - val_loss: 0.4390 - val_accuracy: 0.7979\n",
      "\n",
      "Epoch 00001: accuracy improved from -inf to 0.63457, saving model to parking_spots_model.h5\n",
      "Epoch 2/15\n",
      "13/13 [==============================] - 19s 2s/step - loss: 0.3976 - accuracy: 0.7827 - val_loss: 0.3511 - val_accuracy: 0.8457\n",
      "\n",
      "Epoch 00002: accuracy improved from 0.63457 to 0.78272, saving model to parking_spots_model.h5\n",
      "Epoch 3/15\n",
      "13/13 [==============================] - 19s 1s/step - loss: 0.2932 - accuracy: 0.9160 - val_loss: 0.3074 - val_accuracy: 0.8777\n",
      "\n",
      "Epoch 00003: accuracy improved from 0.78272 to 0.91605, saving model to parking_spots_model.h5\n",
      "Epoch 4/15\n",
      "13/13 [==============================] - 19s 1s/step - loss: 0.2279 - accuracy: 0.9309 - val_loss: 0.2819 - val_accuracy: 0.8830\n",
      "\n",
      "Epoch 00004: accuracy improved from 0.91605 to 0.93086, saving model to parking_spots_model.h5\n",
      "Epoch 5/15\n",
      "13/13 [==============================] - 19s 1s/step - loss: 0.1828 - accuracy: 0.9358 - val_loss: 0.2681 - val_accuracy: 0.8830\n",
      "\n",
      "Epoch 00005: accuracy improved from 0.93086 to 0.93580, saving model to parking_spots_model.h5\n",
      "Epoch 6/15\n",
      "13/13 [==============================] - 19s 1s/step - loss: 0.1660 - accuracy: 0.9407 - val_loss: 0.2365 - val_accuracy: 0.8936\n",
      "\n",
      "Epoch 00006: accuracy improved from 0.93580 to 0.94074, saving model to parking_spots_model.h5\n",
      "Epoch 7/15\n",
      "13/13 [==============================] - 19s 1s/step - loss: 0.1455 - accuracy: 0.9531 - val_loss: 0.2361 - val_accuracy: 0.9149\n",
      "\n",
      "Epoch 00007: accuracy improved from 0.94074 to 0.95309, saving model to parking_spots_model.h5\n",
      "Epoch 8/15\n",
      "13/13 [==============================] - 19s 1s/step - loss: 0.1358 - accuracy: 0.9556 - val_loss: 0.2173 - val_accuracy: 0.9149\n",
      "\n",
      "Epoch 00008: accuracy improved from 0.95309 to 0.95556, saving model to parking_spots_model.h5\n",
      "Epoch 9/15\n",
      "13/13 [==============================] - 19s 1s/step - loss: 0.1247 - accuracy: 0.9556 - val_loss: 0.2301 - val_accuracy: 0.9096\n",
      "\n",
      "Epoch 00009: accuracy did not improve from 0.95556\n",
      "Epoch 10/15\n",
      "13/13 [==============================] - 19s 1s/step - loss: 0.1118 - accuracy: 0.9605 - val_loss: 0.1942 - val_accuracy: 0.9149\n",
      "\n",
      "Epoch 00010: accuracy improved from 0.95556 to 0.96049, saving model to parking_spots_model.h5\n",
      "Epoch 11/15\n",
      "13/13 [==============================] - 19s 1s/step - loss: 0.1097 - accuracy: 0.9630 - val_loss: 0.1706 - val_accuracy: 0.9309\n",
      "\n",
      "Epoch 00011: accuracy improved from 0.96049 to 0.96296, saving model to parking_spots_model.h5\n",
      "Epoch 12/15\n",
      "13/13 [==============================] - 19s 1s/step - loss: 0.1032 - accuracy: 0.9704 - val_loss: 0.1777 - val_accuracy: 0.9309\n",
      "\n",
      "Epoch 00012: accuracy improved from 0.96296 to 0.97037, saving model to parking_spots_model.h5\n",
      "Epoch 13/15\n",
      "13/13 [==============================] - 19s 1s/step - loss: 0.0888 - accuracy: 0.9654 - val_loss: 0.2104 - val_accuracy: 0.9202\n",
      "\n",
      "Epoch 00013: accuracy did not improve from 0.97037\n",
      "Epoch 14/15\n",
      "13/13 [==============================] - 19s 1s/step - loss: 0.0950 - accuracy: 0.9679 - val_loss: 0.1665 - val_accuracy: 0.9255\n",
      "\n",
      "Epoch 00014: accuracy did not improve from 0.97037\n",
      "Epoch 15/15\n",
      "13/13 [==============================] - 19s 2s/step - loss: 0.0736 - accuracy: 0.9827 - val_loss: 0.1365 - val_accuracy: 0.9468\n",
      "\n",
      "Epoch 00015: accuracy improved from 0.97037 to 0.98272, saving model to parking_spots_model.h5\n"
     ]
    }
   ],
   "source": [
    "### Start training!\n",
    "\n",
    "history_object = model_final.fit(\n",
    "train_generator,\n",
    "epochs = epochs,\n",
    "validation_data = validation_generator,\n",
    "callbacks = [checkpoint, early])"
   ]
  },
  {
   "cell_type": "code",
   "execution_count": 10,
   "metadata": {},
   "outputs": [
    {
     "name": "stdout",
     "output_type": "stream",
     "text": [
      "dict_keys(['loss', 'accuracy', 'val_loss', 'val_accuracy'])\n"
     ]
    },
    {
     "data": {
      "image/png": "[encoded data removed]",
      "text/plain": [
       "<Figure size 432x288 with 1 Axes>"
      ]
     },
     "metadata": {
      "needs_background": "light"
     },
     "output_type": "display_data"
    }
   ],
   "source": [
    "import matplotlib.pyplot as plt\n",
    "print(history_object.history.keys())\n",
    "plt.plot(history_object.history['accuracy'])\n",
    "plt.plot(history_object.history['val_accuracy'])\n",
    "plt.title('model accuracy')\n",
    "plt.ylabel('acc')\n",
    "plt.xlabel('epoch')\n",
    "plt.legend(['train', 'test'], loc='upper left')\n",
    "plt.show()"
   ]
  },
  {
   "cell_type": "code",
   "execution_count": 11,
   "metadata": {},
   "outputs": [
    {
     "data": {
      "image/png": "[encoded data removed]",
      "text/plain": [
       "<Figure size 432x288 with 1 Axes>"
      ]
     },
     "metadata": {
      "needs_background": "light"
     },
     "output_type": "display_data"
    }
   ],
   "source": [
    "plt.plot(history_object.history['loss'])\n",
    "plt.plot(history_object.history['val_loss'])\n",
    "plt.title('model loss')\n",
    "plt.ylabel('loss')\n",
    "plt.xlabel('epoch')\n",
    "plt.legend(['train', 'test'], loc='upper left')\n",
    "plt.show()"
   ]
  },
  {
   "cell_type": "code",
   "execution_count": null,
   "metadata": {},
   "outputs": [],
   "source": []
  }
 ],
 "metadata": {
  "kernelspec": {
   "display_name": "Python 3",
   "language": "python",
   "name": "python3"
  },
  "language_info": {
   "codemirror_mode": {
    "name": "ipython",
    "version": 3
   },
   "file_extension": ".py",
   "mimetype": "text/x-python",
   "name": "python",
   "nbconvert_exporter": "python",
   "pygments_lexer": "ipython3",
   "version": "3.8.5"
  }
 },
 "nbformat": 4,
 "nbformat_minor": 2
}
